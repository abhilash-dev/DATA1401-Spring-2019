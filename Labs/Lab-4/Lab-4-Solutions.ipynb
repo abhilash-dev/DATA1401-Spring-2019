{
 "cells": [
  {
   "cell_type": "markdown",
   "metadata": {},
   "source": [
    "## Lab 4\n",
    "\n",
    "In this lab we will become familiar with distributions, histograms, and functional programming. \n",
    "\n",
    "\n",
    "### Uniform Distribution\n",
    "Lets start with generating some fake random data. You can get a random number between 0 and 1 using the python random module as follow:"
   ]
  },
  {
   "cell_type": "code",
   "execution_count": 1,
   "metadata": {},
   "outputs": [
    {
     "name": "stdout",
     "output_type": "stream",
     "text": [
      "The Value of x is 0.844421851525\n"
     ]
    }
   ],
   "source": [
    "import random\n",
    "random.seed(0)\n",
    "x=random.random()\n",
    "print \"The Value of x is\", x"
   ]
  },
  {
   "cell_type": "markdown",
   "metadata": {},
   "source": [
    "Everytime you call random, you will get a new number.\n",
    "\n",
    "*Exercise 1:* Using random, write a function `generate_uniform(N, mymin, mymax)`, that returns a python list containing N random numbers between specified minimum and maximum value. Note that you may want to quickly work out on paper how to turn numbers between 0 and 1 to between other values. "
   ]
  },
  {
   "cell_type": "code",
   "execution_count": 2,
   "metadata": {},
   "outputs": [],
   "source": [
    "def generate_uniform(N,x_min,x_max):\n",
    "    out = []\n",
    "    for i in range(N):\n",
    "        # Streching\n",
    "        x = (x_max - x_min) * random.random()\n",
    "        \n",
    "        # Shifting\n",
    "        x += x_min\n",
    "        \n",
    "        out.append(x)\n",
    "    return out"
   ]
  },
  {
   "cell_type": "code",
   "execution_count": 3,
   "metadata": {},
   "outputs": [
    {
     "name": "stdout",
     "output_type": "stream",
     "text": [
      "Data Type: <type 'list'>\n",
      "Data Length: 1000\n",
      "Type of Data Contents: <type 'float'>\n",
      "Data Minimum: -9.9951860695\n",
      "Data Maximum: 9.99370251154\n"
     ]
    }
   ],
   "source": [
    "# Test you solution here\n",
    "data=generate_uniform(1000,-10,10)\n",
    "print \"Data Type:\", type(data)\n",
    "print \"Data Length:\", len(data)\n",
    "if len(data)>0: \n",
    "    print \"Type of Data Contents:\", type(data[0])\n",
    "    print \"Data Minimum:\", min(data)\n",
    "    print \"Data Maximum:\", max(data)"
   ]
  },
  {
   "cell_type": "markdown",
   "metadata": {},
   "source": [
    "*Exercise 2a:* \n",
    "Write a function that computes the mean of values in a list."
   ]
  },
  {
   "cell_type": "code",
   "execution_count": 4,
   "metadata": {},
   "outputs": [],
   "source": [
    "# Skeleton\n",
    "def mean(Data):\n",
    "    m=0.\n",
    "    n = len(Data)\n",
    "    if n == 0:\n",
    "        print \"Bad Arg: Empty List\"\n",
    "        return m\n",
    "    \n",
    "    m = sum(Data)/n\n",
    "    \n",
    "    return m"
   ]
  },
  {
   "cell_type": "code",
   "execution_count": 27,
   "metadata": {},
   "outputs": [
    {
     "name": "stdout",
     "output_type": "stream",
     "text": [
      "Mean of Data: -0.0705350331336\n"
     ]
    }
   ],
   "source": [
    "# Test your solution here\n",
    "print \"Mean of Data:\", mean(data)"
   ]
  },
  {
   "cell_type": "markdown",
   "metadata": {},
   "source": [
    "*Exercise 2b:* \n",
    "Write a function that computes the variance of values in a list."
   ]
  },
  {
   "cell_type": "code",
   "execution_count": 6,
   "metadata": {},
   "outputs": [],
   "source": [
    "# Skeleton\n",
    "def variance(Data):\n",
    "    m=0.\n",
    "    n = len(Data)\n",
    "    if n == 0:\n",
    "        print \"Bad Arg: Empty List\"\n",
    "        return m\n",
    "        \n",
    "    m = sum([x**2 for x in Data])/n - (mean(Data))**2\n",
    "    \n",
    "    return m"
   ]
  },
  {
   "cell_type": "code",
   "execution_count": 7,
   "metadata": {},
   "outputs": [
    {
     "name": "stdout",
     "output_type": "stream",
     "text": [
      "Variance of Data: 33.6873484851\n"
     ]
    }
   ],
   "source": [
    "# Test your solution here\n",
    "print \"Variance of Data:\", variance(data)"
   ]
  },
  {
   "cell_type": "markdown",
   "metadata": {},
   "source": [
    "## Histogramming"
   ]
  },
  {
   "cell_type": "markdown",
   "metadata": {},
   "source": [
    "*Exercise 3:* Write a function that bins the data so that you can create a histogram. An example of how to implement histogramming is the following logic:\n",
    "\n",
    "* User inputs a list of values `x` and optionally `n_bins` which defaults to 10.\n",
    "* If not supplied, find the minimum and maximum (`x_min`,`x_max`) of the values in x.\n",
    "* Determine the bin size (`bin_size`) by dividing the range of the function by the number of bins.\n",
    "* Create an empty list of zeros of size `n_bins`, call it `hist`.\n",
    "* Loop over the values in `x`\n",
    "    * Loop over the values in `hist` with index `i`:\n",
    "        * If x is between `x_min+i*bin_size` and `x_min+i*2*bin_size`, increment `hist[i].` \n",
    "        * For efficiency, try to use continue to goto the next bin and data point.\n",
    "* Return `hist` and the list corresponding of the bin edges (i.e. of `x_min+i*bin_size`).    "
   ]
  },
  {
   "cell_type": "code",
   "execution_count": 8,
   "metadata": {},
   "outputs": [],
   "source": [
    "# Solution\n",
    "def histogram(x,n_bins=10,x_min=None,x_max=None):\n",
    "    hist = []\n",
    "    bin_edges = []\n",
    "    \n",
    "    if len(x) > 0:\n",
    "        if not x_min:\n",
    "            x_min = min(x)\n",
    "            \n",
    "        if not x_max:\n",
    "            x_max = max(x)\n",
    "            \n",
    "        x_range = x_max - x_min\n",
    "        bin_size = x_range / n_bins\n",
    "        hist = [0 for i in range(n_bins)]\n",
    "        bin_edges = [x_min+i*bin_size for i in range(n_bins+1)]\n",
    "        \n",
    "        for element in x:\n",
    "            for i in range(n_bins):\n",
    "                if element >= x_min+(i*bin_size) and element < x_min+((i+1)*bin_size):\n",
    "                    hist[i]+=1\n",
    "                    continue\n",
    "            \n",
    "    return hist,bin_edges"
   ]
  },
  {
   "cell_type": "code",
   "execution_count": 25,
   "metadata": {},
   "outputs": [
    {
     "name": "stdout",
     "output_type": "stream",
     "text": [
      "[16, 5, 15, 12, 22, 6, 10, 11, 11, 7, 11, 8, 12, 4, 11, 10, 8, 5, 12, 5, 13, 9, 7, 8, 9, 13, 8, 5, 14, 9, 7, 11, 11, 11, 10, 16, 6, 6, 11, 13, 13, 13, 11, 6, 14, 11, 7, 15, 8, 12, 7, 10, 10, 8, 9, 7, 9, 8, 14, 7, 8, 10, 14, 14, 5, 12, 8, 14, 16, 8, 11, 8, 10, 14, 10, 11, 7, 8, 15, 10, 12, 12, 6, 5, 9, 4, 10, 11, 6, 10, 11, 14, 9, 13, 10, 9, 11, 11, 12, 4]\n",
      "[-9.995186069496661, -9.795297183686312, -9.595408297875963, -9.395519412065614, -9.195630526255266, -8.995741640444917, -8.795852754634568, -8.595963868824219, -8.39607498301387, -8.19618609720352, -7.9962972113931725, -7.796408325582823, -7.596519439772475, -7.396630553962126, -7.196741668151777, -6.996852782341428, -6.796963896531079, -6.59707501072073, -6.397186124910381, -6.197297239100033, -5.997408353289684, -5.797519467479335, -5.5976305816689855, -5.397741695858636, -5.197852810048288, -4.997963924237939, -4.79807503842759, -4.598186152617242, -4.3982972668068925, -4.198408380996543, -3.998519495186194, -3.798630609375846, -3.598741723565497, -3.3988528377551477, -3.1989639519447994, -2.9990750661344503, -2.799186180324101, -2.599297294513752, -2.3994084087034038, -2.1995195228930546, -1.9996306370827055, -1.7997417512723572, -1.5998528654620081, -1.399963979651659, -1.2000750938413098, -1.0001862080309607, -0.8002973222206116, -0.6004084364102642, -0.40051955059991506, -0.20063066478956593, -0.0007417789792167895, 0.19914710683113235, 0.3990359926414815, 0.5989248784518306, 0.798813764262178, 0.9987026500725271, 1.1985915358828763, 1.3984804216932254, 1.5983693075035745, 1.7982581933139237, 1.9981470791242728, 2.19803596493462, 2.3979248507449693, 2.5978137365553184, 2.7977026223656676, 2.9975915081760167, 3.197480393986366, 3.397369279796715, 3.5972581656070624, 3.7971470514174115, 3.9970359372277606, 4.19692482303811, 4.396813708848459, 4.596702594658808, 4.796591480469157, 4.9964803662795045, 5.196369252089854, 5.396258137900203, 5.596147023710552, 5.796035909520901, 5.99592479533125, 6.195813681141598, 6.395702566951947, 6.595591452762296, 6.795480338572645, 6.995369224382994, 7.195258110193343, 7.395146996003692, 7.5950358818140415, 7.794924767624391, 7.99481365343474, 8.194702539245089, 8.394591425055438, 8.594480310865784, 8.794369196676133, 8.994258082486482, 9.194146968296831, 9.39403585410718, 9.59392473991753, 9.793813625727879, 9.993702511538228]\n"
     ]
    }
   ],
   "source": [
    "# Test your solution here\n",
    "h,b=histogram(data,100)\n",
    "print h\n",
    "print b"
   ]
  },
  {
   "cell_type": "markdown",
   "metadata": {},
   "source": [
    "*Exercise 4:* Write a function that uses the histogram function in the previous exercise to create a text-based \"graph\". For example the output could look like the following:\n",
    "```\n",
    "[  0,  1] : ######\n",
    "[  1,  2] : #####\n",
    "[  2,  3] : ######\n",
    "[  3,  4] : ####\n",
    "[  4,  5] : ####\n",
    "[  5,  6] : ######\n",
    "[  6,  7] : #####\n",
    "[  7,  8] : ######\n",
    "[  8,  9] : ####\n",
    "[  9, 10] : #####\n",
    "```\n",
    "\n",
    "Where each line corresponds to a bin and the number of `#`'s are proportional to the value of the data in the bin. "
   ]
  },
  {
   "cell_type": "code",
   "execution_count": 10,
   "metadata": {},
   "outputs": [],
   "source": [
    "# Solution\n",
    "def draw_histogram(x,n_bins,x_min=None,x_max=None,character=\"#\",max_character_per_line=20):\n",
    "    hist, bin_edges = histogram(x, n_bins, x_min, x_max)\n",
    "    \n",
    "    if len(hist) > 0:\n",
    "        hist_max = float(max(hist))\n",
    "        \n",
    "        for i in range(n_bins):\n",
    "            print \"[\" + str(bin_edges[i]).rjust(20) + \", \" + str(bin_edges[i+1]).rjust(20) + \"] : \" + (character*int(((hist[i]/hist_max)*max_character_per_line)))\n",
    "    \n",
    "    return hist, bin_edges"
   ]
  },
  {
   "cell_type": "code",
   "execution_count": 11,
   "metadata": {},
   "outputs": [
    {
     "name": "stdout",
     "output_type": "stream",
     "text": [
      "[       -9.9951860695,       -8.99574164044] : ####################\n",
      "[      -8.99574164044,       -7.99629721139] : ############\n",
      "[      -7.99629721139,       -6.99685278234] : #############\n",
      "[      -6.99685278234,       -5.99740835329] : ###########\n",
      "[      -5.99740835329,       -4.99796392424] : #############\n",
      "[      -4.99796392424,       -3.99851949519] : ##############\n",
      "[      -3.99851949519,       -2.99907506613] : ##############\n",
      "[      -2.99907506613,       -1.99963063708] : ##############\n",
      "[      -1.99963063708,       -1.00018620803] : ################\n",
      "[      -1.00018620803,   -0.000741778979217] : ###############\n",
      "[  -0.000741778979217,       0.998702650073] : ############\n",
      "[      0.998702650073,        1.99814707912] : ############\n",
      "[       1.99814707912,        2.99759150818] : ##############\n",
      "[       2.99759150818,        3.99703593723] : ################\n",
      "[       3.99703593723,        4.99648036628] : ###############\n",
      "[       4.99648036628,        5.99592479533] : ##############\n",
      "[       5.99592479533,        6.99536922438] : ############\n",
      "[       6.99536922438,        7.99481365343] : ###########\n",
      "[       7.99481365343,        8.99425808249] : ################\n",
      "[       8.99425808249,        9.99370251154] : #############\n"
     ]
    }
   ],
   "source": [
    "# Test your solution here\n",
    "h,b=draw_histogram(data,20)"
   ]
  },
  {
   "cell_type": "markdown",
   "metadata": {},
   "source": [
    "## Functional Programming\n",
    "\n",
    "*Exercise 5:* Write a function the applies a booling function (that returns true/false) to every element in data, and return a list of indices of elements where the result was true. Use this function to find the indices of entries greater than 0.5. "
   ]
  },
  {
   "cell_type": "code",
   "execution_count": 12,
   "metadata": {},
   "outputs": [],
   "source": [
    "def where(mylist,myfunc):\n",
    "    out= []\n",
    "    bool_list = map(myfunc,mylist)\n",
    "    for i in range(len(bool_list)):\n",
    "        if bool_list[i]:\n",
    "            out.append(i)\n",
    "    \n",
    "    return out"
   ]
  },
  {
   "cell_type": "code",
   "execution_count": 13,
   "metadata": {},
   "outputs": [
    {
     "name": "stdout",
     "output_type": "stream",
     "text": [
      "[0.818387610188399, 0.7786177341461099, 0.747281950803196, 0.18765458516959888, 0.5488772611027803, 0.4238792306088448, 0.949788047597888, 0.17383353806681645, 0.16985884355967462, 0.6588617536380149]\n",
      "[0, 1, 2, 4, 6, 9]\n"
     ]
    }
   ],
   "source": [
    "# Test your solution here\n",
    "inp = generate_uniform(N=10,x_min=0,x_max=1)\n",
    "print inp\n",
    "print where(inp,lambda x: x > 0.5)"
   ]
  },
  {
   "cell_type": "markdown",
   "metadata": {},
   "source": [
    "*Exercise 6:* The inrange(mymin,mymax) function below returns a function that tests if it's input is between the specified values. Write corresponding functions that test:\n",
    "* Even\n",
    "* Odd\n",
    "* Greater than\n",
    "* Less than\n",
    "* Equal\n",
    "* Divisible by"
   ]
  },
  {
   "cell_type": "code",
   "execution_count": 14,
   "metadata": {},
   "outputs": [
    {
     "name": "stdout",
     "output_type": "stream",
     "text": [
      "False False False False False\n",
      "True True False False False\n",
      "Number of Entries passing F1: 508\n",
      "Number of Entries passing F2: 492\n"
     ]
    }
   ],
   "source": [
    "def in_range(mymin,mymax):\n",
    "    def testrange(x):\n",
    "        return x<mymax and x>=mymin\n",
    "    return testrange\n",
    "\n",
    "# Examples:\n",
    "F1=in_range(-10,0)\n",
    "F2=in_range(0,10)\n",
    "\n",
    "# Test of in_range\n",
    "print F1(0), F1(1), F1(10), F1(15), F1(20)\n",
    "print F2(0), F2(1), F2(10), F2(15), F2(20)\n",
    "\n",
    "print \"Number of Entries passing F1:\", len(where(data,F1))\n",
    "print \"Number of Entries passing F2:\", len(where(data,F2))"
   ]
  },
  {
   "cell_type": "code",
   "execution_count": 15,
   "metadata": {},
   "outputs": [],
   "source": [
    "def is_odd():\n",
    "    def odd(x):\n",
    "        return x % 2 == 1\n",
    "    return odd\n",
    "\n",
    "def is_even():\n",
    "    def even(x):\n",
    "        return x % 2 == 0\n",
    "    return even\n",
    "\n",
    "def is_greater_than(x):\n",
    "    def greater(y):\n",
    "        return y > x\n",
    "    return greater\n",
    "\n",
    "def is_lesser_than(x):\n",
    "    def lesser(y):\n",
    "        return y < x\n",
    "    return lesser\n",
    "\n",
    "def is_equal_to(x):\n",
    "    def equal(y):\n",
    "        return x == y\n",
    "    return equal\n",
    "\n",
    "def is_divisible_by(x):\n",
    "    def divisible(y):\n",
    "        return y % x == 0\n",
    "    return divisible"
   ]
  },
  {
   "cell_type": "code",
   "execution_count": 16,
   "metadata": {},
   "outputs": [
    {
     "name": "stdout",
     "output_type": "stream",
     "text": [
      "False True False False False\n",
      "True False True True True\n",
      "False False False False True\n",
      "True True True False False\n",
      "False False False True False\n",
      "True False True True True\n"
     ]
    }
   ],
   "source": [
    "# Test your solution\n",
    "F1 = is_odd()\n",
    "F2 = is_even()\n",
    "F3 = is_greater_than(10)\n",
    "F4 = is_lesser_than(10)\n",
    "F5 = is_equal_to(10)\n",
    "F6 = is_divisible_by(10)\n",
    "\n",
    "print F1(0), F1(1), F1(-10), F1(10), F1(20)\n",
    "print F2(0), F2(1), F2(-10), F2(10), F2(20)\n",
    "print F3(0), F3(1), F3(-10), F3(10), F3(20)\n",
    "print F4(0), F4(1), F4(-10), F4(10), F4(20)\n",
    "print F5(0), F5(1), F5(-10), F5(10), F5(20)\n",
    "print F6(0), F6(1), F6(-10), F6(10), F6(20)"
   ]
  },
  {
   "cell_type": "markdown",
   "metadata": {},
   "source": [
    "*Exercise 7:* Repeat the previous exercise using `lambda` and the built-in python functions sum and map instead of your solution above. "
   ]
  },
  {
   "cell_type": "code",
   "execution_count": 17,
   "metadata": {},
   "outputs": [],
   "source": [
    "odd = lambda x: x % 2 == 1\n",
    "even = lambda x: x % 2 == 0\n",
    "greater = lambda x: x > 10\n",
    "lesser = lambda x: x < 10\n",
    "equal = lambda x: x == 10\n",
    "divisible = lambda x: x % 10 == 0"
   ]
  },
  {
   "cell_type": "code",
   "execution_count": 18,
   "metadata": {},
   "outputs": [
    {
     "name": "stdout",
     "output_type": "stream",
     "text": [
      "False True False False False\n",
      "True False True True True\n",
      "False False False False True\n",
      "True True True False False\n",
      "False False False True False\n",
      "True False True True True\n"
     ]
    }
   ],
   "source": [
    "print odd(0), odd(1), odd(-10), odd(10), odd(20)\n",
    "print even(0), even(1), even(-10), even(10), even(20)\n",
    "print greater(0), greater(1), greater(-10), greater(10), greater(20)\n",
    "print lesser(0), lesser(1), lesser(-10), lesser(10), lesser(20)\n",
    "print equal(0), equal(1), equal(-10), equal(10), equal(20)\n",
    "print divisible(0), divisible(1), divisible(-10), divisible(10), divisible(20)"
   ]
  },
  {
   "cell_type": "markdown",
   "metadata": {},
   "source": [
    "## Monte Carlo\n",
    "\n",
    "*Exercise 7:* Write a \"generator\" function called `generate_function(func,x_min,x_max,N)`, that instead of generating a flat distribution, generates a distribution with functional form coded in `func`. Note that `func` will always be > 0.  \n",
    "\n",
    "Use the test function below and your histogramming functions above to demonstrate that your generator is working properly.\n",
    "\n",
    "Hint: A simple, but slow, solution is to a draw random number test_x within the specified range and another number p between the min and max of the function (which you will have to determine). If p<=function(test_x), then place test_x on the output. If not, repeat the process, drawing two new numbers. Repeat until you have the specified number of generated numbers, N. For this problem, it's OK to determine the min and max by numerically sampling the function.  "
   ]
  },
  {
   "cell_type": "code",
   "execution_count": 19,
   "metadata": {},
   "outputs": [],
   "source": [
    "def generate_function(func,x_min,x_max,N=1000):\n",
    "    out = list()\n",
    "    \n",
    "    if func is not None and x_min is not None and x_max is not None:\n",
    "        temp_list = list(map(func, generate_uniform(N, x_min, x_max)))\n",
    "        p_min = min(temp_list)\n",
    "        p_max = max(temp_list)\n",
    "        \n",
    "        while len(out) < N:\n",
    "            test_x = random.random()*(x_max - x_min) + x_min\n",
    "            p = random.random()*(p_max - p_min) + p_min\n",
    "\n",
    "            if p <= func(test_x):\n",
    "                out.append(test_x)\n",
    "    return out"
   ]
  },
  {
   "cell_type": "code",
   "execution_count": 20,
   "metadata": {},
   "outputs": [
    {
     "name": "stdout",
     "output_type": "stream",
     "text": [
      "[      -9.99731436837,       -8.99926088359] : ###############\n",
      "[      -8.99926088359,       -8.00120739881] : ##############\n",
      "[      -8.00120739881,       -7.00315391403] : #########\n",
      "[      -7.00315391403,       -6.00510042925] : ########\n",
      "[      -6.00510042925,       -5.00704694447] : #######\n",
      "[      -5.00704694447,       -4.00899345969] : ########\n",
      "[      -4.00899345969,       -3.01093997491] : ####\n",
      "[      -3.01093997491,       -2.01288649013] : ##\n",
      "[      -2.01288649013,       -1.01483300535] : #\n",
      "[      -1.01483300535,     -0.0167795205706] : \n",
      "[    -0.0167795205706,       0.981273964209] : ##\n",
      "[      0.981273964209,        1.97932744899] : ####\n",
      "[       1.97932744899,        2.97738093377] : #####\n",
      "[       2.97738093377,        3.97543441855] : ########\n",
      "[       3.97543441855,        4.97348790333] : #######\n",
      "[       4.97348790333,        5.97154138811] : ###########\n",
      "[       5.97154138811,        6.96959487289] : ###############\n",
      "[       6.96959487289,        7.96764835767] : #############\n",
      "[       7.96764835767,        8.96570184245] : ####################\n",
      "[       8.96570184245,        9.96375532723] : ###############\n"
     ]
    }
   ],
   "source": [
    "# A test function\n",
    "def test_func(x,a=1,b=1):\n",
    "    return abs(a*x+b)\n",
    "\n",
    "h, b = draw_histogram(generate_function(test_func, -10, 10, N=1000), 20)"
   ]
  },
  {
   "cell_type": "markdown",
   "metadata": {},
   "source": [
    "*Exercise 8:* Use your function to generate 1000 numbers that are normal distributed, using the `gaussian` function below. Confirm the mean and variance of the data is close to the mean and variance you specify when building the Gaussian. Histogram the data. "
   ]
  },
  {
   "cell_type": "code",
   "execution_count": 21,
   "metadata": {},
   "outputs": [
    {
     "name": "stdout",
     "output_type": "stream",
     "text": [
      "Original_mean = 0, Generated Mean = 0.0433921521067\n",
      "Original_variance = 1.0, Generated variance = 1.03933414083\n",
      "[      -3.53096041496,       -3.21942431561] : \n",
      "[      -3.21942431561,       -2.90788821626] : \n",
      "[      -2.90788821626,       -2.59635211691] : \n",
      "[      -2.59635211691,       -2.28481601756] : #\n",
      "[      -2.28481601756,       -1.97327991821] : ##\n",
      "[      -1.97327991821,       -1.66174381886] : ###\n",
      "[      -1.66174381886,       -1.35020771951] : #######\n",
      "[      -1.35020771951,       -1.03867162016] : ########\n",
      "[      -1.03867162016,      -0.727135520808] : ############\n",
      "[     -0.727135520808,      -0.415599421458] : ###############\n",
      "[     -0.415599421458,      -0.104063322108] : ###############\n",
      "[     -0.104063322108,       0.207472777242] : ###################\n",
      "[      0.207472777242,       0.519008876592] : ####################\n",
      "[      0.519008876592,       0.830544975942] : #############\n",
      "[      0.830544975942,        1.14208107529] : ###########\n",
      "[       1.14208107529,        1.45361717464] : ###########\n",
      "[       1.45361717464,        1.76515327399] : ######\n",
      "[       1.76515327399,        2.07668937334] : ##\n",
      "[       2.07668937334,        2.38822547269] : #\n",
      "[       2.38822547269,        2.69976157204] : \n"
     ]
    }
   ],
   "source": [
    "import math\n",
    "\n",
    "def gaussian(mean, sigma):\n",
    "    def f(x):\n",
    "        return math.exp(-((x-mean)**2)/(2*sigma**2))/math.sqrt(math.pi*sigma)\n",
    "    return f\n",
    "\n",
    "original_mean = 0\n",
    "original_sd = 1\n",
    "generated_values = generate_function(gaussian(original_mean,original_sd),-10,10,1000)\n",
    "generated_mean = mean(generated_values)\n",
    "generated_variance = variance(generated_values)\n",
    "\n",
    "print \"Original_mean = {0}, Generated Mean = {1}\".format(original_mean,generated_mean)\n",
    "print \"Original_variance = {0}, Generated variance = {1}\".format(math.sqrt(original_sd),generated_variance)\n",
    "\n",
    "h,b = draw_histogram(generated_values,20)"
   ]
  },
  {
   "cell_type": "markdown",
   "metadata": {},
   "source": [
    "*Exercise 9:* Combine your `generate_function`, `where`, and `in_range` functions above to create an integrate function. Use your integrate function to show that approximately 68% of Normal distribution is within one variance."
   ]
  },
  {
   "cell_type": "code",
   "execution_count": 22,
   "metadata": {},
   "outputs": [],
   "source": [
    "nd_mean = 0\n",
    "nd_sd = 1\n",
    "def integrate(func, x_min, x_max, n_points=1000):\n",
    "    generated_values = generate_function(func, x_min, x_max, n_points)\n",
    "    count = len(where(generated_values, in_range(-nd_sd, nd_sd)))\n",
    "    integral = (float(count) / n_points) * 100\n",
    "    return integral"
   ]
  },
  {
   "cell_type": "code",
   "execution_count": 23,
   "metadata": {},
   "outputs": [
    {
     "name": "stdout",
     "output_type": "stream",
     "text": [
      "68.47\n"
     ]
    }
   ],
   "source": [
    "percent = integrate(gaussian(nd_mean,nd_sd),-10,10,10000)\n",
    "print percent"
   ]
  }
 ],
 "metadata": {
  "kernelspec": {
   "display_name": "Python 2",
   "language": "python",
   "name": "python2"
  },
  "language_info": {
   "codemirror_mode": {
    "name": "ipython",
    "version": 2
   },
   "file_extension": ".py",
   "mimetype": "text/x-python",
   "name": "python",
   "nbconvert_exporter": "python",
   "pygments_lexer": "ipython2",
   "version": "2.7.15"
  }
 },
 "nbformat": 4,
 "nbformat_minor": 2
}
