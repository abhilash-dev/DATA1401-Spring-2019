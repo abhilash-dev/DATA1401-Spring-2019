{
 "cells": [
  {
   "cell_type": "code",
   "execution_count": 39,
   "metadata": {},
   "outputs": [],
   "source": [
    "EMPTY_MATRIX = []"
   ]
  },
  {
   "cell_type": "code",
   "execution_count": 40,
   "metadata": {},
   "outputs": [],
   "source": [
    "# 2a. Constant\n",
    "\n",
    "def constant(n,m,c):\n",
    "    '''returns an n by m matrix filled with floats of value c'''\n",
    "    if m < 0 or n < 0:\n",
    "        raise ValueError(\"Bad Input - Matrix dimensions cannot be negative\")\n",
    "    elif m == 0 or n == 0:\n",
    "        return EMPTY_MATRIX\n",
    "    else:\n",
    "        return [[float(c) for i in range(m)] for j in range(n)]"
   ]
  },
  {
   "cell_type": "code",
   "execution_count": 41,
   "metadata": {},
   "outputs": [
    {
     "name": "stdout",
     "output_type": "stream",
     "text": [
      "[[9.0, 9.0, 9.0], [9.0, 9.0, 9.0]]\n",
      "[]\n",
      "[]\n"
     ]
    }
   ],
   "source": [
    "n = 2\n",
    "m = 3\n",
    "c = 9\n",
    "print constant(n,m,c)\n",
    "\n",
    "n = 0\n",
    "m = 3\n",
    "print constant(n,m,c)\n",
    "\n",
    "n = 3\n",
    "m = 0\n",
    "print constant(n,m,c)"
   ]
  },
  {
   "cell_type": "code",
   "execution_count": 42,
   "metadata": {},
   "outputs": [],
   "source": [
    "# 2b. \n",
    "\n",
    "c_0 = 0\n",
    "c_1 = 1\n",
    "\n",
    "def ones(n, m):\n",
    "    '''returns an n by m matrix filled with floats of value 1'''\n",
    "    return constant(n, m, c_1)\n",
    "\n",
    "\n",
    "def zeros(n, m):\n",
    "    '''returns an n by m matrix filled with floats of value 0'''\n",
    "    return constant(n, m, c_0)"
   ]
  },
  {
   "cell_type": "code",
   "execution_count": 43,
   "metadata": {},
   "outputs": [
    {
     "name": "stdout",
     "output_type": "stream",
     "text": [
      "[[1.0, 1.0], [1.0, 1.0], [1.0, 1.0]]\n",
      "[[1.0, 1.0, 1.0], [1.0, 1.0, 1.0]]\n",
      "[]\n",
      "[]\n",
      "[]\n",
      "[[0.0, 0.0], [0.0, 0.0], [0.0, 0.0]]\n",
      "[[0.0, 0.0, 0.0], [0.0, 0.0, 0.0]]\n",
      "[]\n",
      "[]\n",
      "[]\n"
     ]
    }
   ],
   "source": [
    "print(ones(3,2))\n",
    "print(ones(2,3))\n",
    "print(ones(0,1))\n",
    "print(ones(1,0))\n",
    "print(ones(0,0))\n",
    "# print(ones(3,-1))\n",
    "# print(ones(-1,3))\n",
    "\n",
    "print(zeros(3,2))\n",
    "print(zeros(2,3))\n",
    "print(zeros(1,0))\n",
    "print(zeros(0,1))\n",
    "# print(zeros(-2,3))\n",
    "# print(zeros(2,-3))\n",
    "print(zeros(0,0))"
   ]
  },
  {
   "cell_type": "code",
   "execution_count": 44,
   "metadata": {},
   "outputs": [
    {
     "name": "stdout",
     "output_type": "stream",
     "text": [
      "[[1.0, 1.0, 1.0], [1.0, 1.0, 1.0]]\n",
      "[]\n"
     ]
    }
   ],
   "source": [
    "print(ones(2,3))\n",
    "print(ones(0,1))"
   ]
  },
  {
   "cell_type": "code",
   "execution_count": 45,
   "metadata": {},
   "outputs": [
    {
     "name": "stdout",
     "output_type": "stream",
     "text": [
      "[[0.0, 0.0, 0.0], [0.0, 0.0, 0.0]]\n",
      "[]\n"
     ]
    }
   ],
   "source": [
    "print(zeros(2,3))\n",
    "print(zeros(0,1))"
   ]
  },
  {
   "cell_type": "code",
   "execution_count": 46,
   "metadata": {},
   "outputs": [],
   "source": [
    "# 2c.\n",
    "\n",
    "def eye(n):\n",
    "    '''returns a n by n identity matrix'''\n",
    "    if n < 0:\n",
    "        raise ValueError(\"Bad Input - Matrix dimensions cannot be negative\")\n",
    "    elif n == 0:\n",
    "        return EMPTY_MATRIX\n",
    "    else:\n",
    "        return [[1.0 if x==y else 0.0 for y in range(n)] for x in range(n)]\n"
   ]
  },
  {
   "cell_type": "code",
   "execution_count": 47,
   "metadata": {},
   "outputs": [
    {
     "name": "stdout",
     "output_type": "stream",
     "text": [
      "[[1.0, 0.0, 0.0], [0.0, 1.0, 0.0], [0.0, 0.0, 1.0]]\n",
      "[]\n"
     ]
    }
   ],
   "source": [
    "n = 3\n",
    "print eye(n)\n",
    "\n",
    "n = 0\n",
    "print eye(n)\n",
    "\n",
    "n = -1\n",
    "# print eye(n)"
   ]
  },
  {
   "cell_type": "code",
   "execution_count": 48,
   "metadata": {},
   "outputs": [],
   "source": [
    "# 3a.\n",
    "def shape(M):\n",
    "    '''returns a tuple contadining the size of the of matrix'''\n",
    "    if M:\n",
    "        n = len(M)\n",
    "\n",
    "        if n == 0:\n",
    "            return (0,0)\n",
    "        else:\n",
    "            m = len(M[0])\n",
    "            for row in M:\n",
    "                if m!= len(row):\n",
    "                    return False\n",
    "            return (n,m)\n",
    "    return False"
   ]
  },
  {
   "cell_type": "code",
   "execution_count": 49,
   "metadata": {},
   "outputs": [
    {
     "name": "stdout",
     "output_type": "stream",
     "text": [
      "(2, 2)\n",
      "False\n",
      "False\n"
     ]
    }
   ],
   "source": [
    "print(shape([[1,2],[2,1]]))\n",
    "print(shape([]))\n",
    "print(shape([[1,2],[1,2,3]]))"
   ]
  },
  {
   "cell_type": "code",
   "execution_count": 50,
   "metadata": {},
   "outputs": [],
   "source": [
    "# 3b.\n",
    "def row(M,n):\n",
    "    '''returns the nth row of the matrix M'''\n",
    "    no_of_rows = len(M)\n",
    "    \n",
    "    if abs(n) >= no_of_rows:\n",
    "        return EMPTY_MATRIX\n",
    "    else:\n",
    "        return M[n]\n",
    "        \n",
    "def column(M,n):\n",
    "    '''returns the nth row of the matrix M'''\n",
    "    \n",
    "    no_of_rows = len(M)\n",
    "    if no_of_rows == 0:\n",
    "        return EMPTY_MATRIX\n",
    "    \n",
    "    no_of_columns = len(M[0])\n",
    "    \n",
    "    if abs(n) >= no_of_columns:\n",
    "        return EMPTY_MATRIX\n",
    "    else:\n",
    "        return [M[row_idx][n] for row_idx in range(no_of_rows)]\n"
   ]
  },
  {
   "cell_type": "code",
   "execution_count": 51,
   "metadata": {},
   "outputs": [
    {
     "name": "stdout",
     "output_type": "stream",
     "text": [
      "[3]\n",
      "[]\n",
      "[]\n"
     ]
    }
   ],
   "source": [
    "print row([[1],[2],[3]],2)\n",
    "print row([[1],[2],[3]],200)\n",
    "print row([],0)"
   ]
  },
  {
   "cell_type": "code",
   "execution_count": 52,
   "metadata": {},
   "outputs": [
    {
     "name": "stdout",
     "output_type": "stream",
     "text": [
      "[1, 2, 3]\n",
      "[]\n",
      "[]\n"
     ]
    }
   ],
   "source": [
    "print column([[1],[2],[3]],0)\n",
    "print column([[1],[2],[3]],200)\n",
    "print column([],0)"
   ]
  },
  {
   "cell_type": "code",
   "execution_count": 53,
   "metadata": {},
   "outputs": [],
   "source": [
    "# 3c.\n",
    "\n",
    "def block(M, n_0, n_1, m_0, m_1):\n",
    "    '''returns a smaller matrix located at n_0 n_1 rows & m_0 m_1 columns'''\n",
    "    \n",
    "    \n",
    "    no_of_rows = len(M)\n",
    "    \n",
    "    if no_of_rows == 0:\n",
    "        return EMPTY_MATRIX\n",
    "    \n",
    "    no_of_columns = len(M[0])\n",
    "    if n_0 < 0 or n_0 >= n_1 or n_1 >= no_of_rows:\n",
    "        return EMPTY_MATRIX\n",
    "    \n",
    "    if m_0 < 0 or m_0 >= m_1 or m_1 >= no_of_columns:\n",
    "        return EMPTY_MATRIX\n",
    "    \n",
    "    m_block = []\n",
    "    no_of_rows_in_block = n_1 - n_0 + 1\n",
    "    no_of_cols_in_block = m_1 - m_0 + 1\n",
    "\n",
    "    for row in range(no_of_rows_in_block):\n",
    "        rows = []\n",
    "        for column in range(no_of_cols_in_block):\n",
    "            rows.append(M[row + n_0][column + m_0])\n",
    "\n",
    "        m_block.append(rows)\n",
    "\n",
    "    return m_block"
   ]
  },
  {
   "cell_type": "code",
   "execution_count": 54,
   "metadata": {},
   "outputs": [
    {
     "name": "stdout",
     "output_type": "stream",
     "text": [
      "[[1, 2], [4, 5]]\n",
      "[[5, 6], [8, 9]]\n",
      "[]\n"
     ]
    }
   ],
   "source": [
    "print block([[1, 2, 3], [4, 5, 6], [7, 8, 9]],0,1,0,1)\n",
    "print block([[1, 2, 3], [4, 5, 6], [7, 8, 9]],1,2,1,2)\n",
    "print block([],1,2,1,2)"
   ]
  },
  {
   "cell_type": "code",
   "execution_count": 55,
   "metadata": {},
   "outputs": [],
   "source": [
    "# 4a.\n",
    "\n",
    "def transpose(M):\n",
    "    m_shape = shape(M)\n",
    "    \n",
    "    if m_shape:\n",
    "        n,m = m_shape\n",
    "        return [[M[column][row] for column in range(n)] for row in range(m)]\n",
    "    else:\n",
    "        return m_shape"
   ]
  },
  {
   "cell_type": "code",
   "execution_count": 56,
   "metadata": {},
   "outputs": [
    {
     "name": "stdout",
     "output_type": "stream",
     "text": [
      "[[1], [2], [3]]\n",
      "[[1, 2, 3]]\n",
      "False\n",
      "False\n"
     ]
    }
   ],
   "source": [
    "print transpose([[1,2,3]])\n",
    "print transpose([[1], [2], [3]])\n",
    "print transpose([])\n",
    "print transpose([[1], [2], [3,4]])"
   ]
  },
  {
   "cell_type": "code",
   "execution_count": 57,
   "metadata": {},
   "outputs": [],
   "source": [
    "# 4b.\n",
    "def scalarmul(M, c):\n",
    "    m_shape = shape(M)\n",
    "    \n",
    "    if m_shape:\n",
    "        n,m = m_shape\n",
    "        return [[M[row][column]*c for column in range(m)] for row in range(n)]\n",
    "    else:\n",
    "        return m_shape"
   ]
  },
  {
   "cell_type": "code",
   "execution_count": 58,
   "metadata": {},
   "outputs": [
    {
     "name": "stdout",
     "output_type": "stream",
     "text": [
      "[[6.0, 6.0, 6.0], [6.0, 6.0, 6.0]]\n",
      "False\n",
      "False\n"
     ]
    }
   ],
   "source": [
    "print scalarmul(ones(2,3),6)\n",
    "print scalarmul([],5)\n",
    "print scalarmul([[1],[1,2]],9)"
   ]
  },
  {
   "cell_type": "code",
   "execution_count": 59,
   "metadata": {},
   "outputs": [],
   "source": [
    "# 4c.\n",
    "def add(M, N):\n",
    "    m_shape = shape(M)\n",
    "    n_shape = shape(N)\n",
    "    \n",
    "    if m_shape:\n",
    "        n1,m1 = m_shape\n",
    "    else:\n",
    "        return m_shape\n",
    "    \n",
    "    if n_shape:\n",
    "        n2,m2 = n_shape\n",
    "    else:\n",
    "        return n_shape\n",
    "    \n",
    "    if m1 == m2 and n1 == n2:\n",
    "        return [[M[row][column] + N[row][column] for column in range(m1)] for row in range(n1)]\n",
    "    else:\n",
    "        return EMPTY_MATRIX"
   ]
  },
  {
   "cell_type": "code",
   "execution_count": 60,
   "metadata": {},
   "outputs": [
    {
     "name": "stdout",
     "output_type": "stream",
     "text": [
      "[[10, 10], [10, 10]]\n",
      "[]\n"
     ]
    }
   ],
   "source": [
    "M = [[1,2],[3,4]]\n",
    "N = [[9,8],[7,6]]\n",
    "print add(M,N)\n",
    "\n",
    "N = [[4,5,6]]\n",
    "print add(M,N)"
   ]
  },
  {
   "cell_type": "code",
   "execution_count": 61,
   "metadata": {},
   "outputs": [],
   "source": [
    "# 4d.\n",
    "def sub(M, N):\n",
    "    return add(M, scalarmul(N, -1))"
   ]
  },
  {
   "cell_type": "code",
   "execution_count": 62,
   "metadata": {},
   "outputs": [
    {
     "name": "stdout",
     "output_type": "stream",
     "text": [
      "[[1, 2], [3, 4]]\n",
      "[]\n"
     ]
    }
   ],
   "source": [
    "M = [[10, 10], [10, 10]]\n",
    "N = N = [[9,8],[7,6]]\n",
    "print sub(M,N)\n",
    "\n",
    "N = [[4,5,6]]\n",
    "print sub(M,N)"
   ]
  },
  {
   "cell_type": "code",
   "execution_count": 63,
   "metadata": {},
   "outputs": [],
   "source": [
    "# 4e.\n",
    "def elementmult(M, N):\n",
    "    m_shape = shape(M)\n",
    "    n_shape = shape(N)\n",
    "    \n",
    "    if m_shape:\n",
    "        n1,m1 = m_shape\n",
    "    else:\n",
    "        return m_shape\n",
    "    \n",
    "    if n_shape:\n",
    "        n2,m2 = n_shape\n",
    "    else:\n",
    "        return n_shape\n",
    "    \n",
    "    if m1 == m2 and n1 == n2:\n",
    "        return [[M[row][column] * N[row][column] for column in range(m1)] for row in range(n1)]\n",
    "    else:\n",
    "        return EMPTY_MATRIX\n"
   ]
  },
  {
   "cell_type": "code",
   "execution_count": 64,
   "metadata": {},
   "outputs": [
    {
     "name": "stdout",
     "output_type": "stream",
     "text": [
      "[[9, 16], [21, 24]]\n",
      "[]\n"
     ]
    }
   ],
   "source": [
    "M = [[1,2],[3,4]]\n",
    "N = [[9,8],[7,6]]\n",
    "print elementmult(M,N)\n",
    "\n",
    "N = [[4,5,6]]\n",
    "print elementmult(M,N)"
   ]
  },
  {
   "cell_type": "code",
   "execution_count": 65,
   "metadata": {},
   "outputs": [],
   "source": [
    "# 4g.\n",
    "\n",
    "def dot(A, B):\n",
    "    if A and B:\n",
    "        if len(A) == len(B):\n",
    "            return sum([A[i] * B[i] for i in range(len(A))])\n",
    "     \n",
    "    return EMPTY_MATRIX\n",
    "\n",
    "\n",
    "def outer(A, B):\n",
    "    if A and B:\n",
    "        if len(A) == len(B):\n",
    "            return [[A[i] * B[j] for j in range(len(B))] for i in range(len(A))]\n",
    "     \n",
    "    return EMPTY_MATRIX\n"
   ]
  },
  {
   "cell_type": "code",
   "execution_count": 66,
   "metadata": {},
   "outputs": [
    {
     "name": "stdout",
     "output_type": "stream",
     "text": [
      "14\n",
      "[[1, 2, 3], [2, 4, 6], [3, 6, 9]]\n",
      "[]\n",
      "[]\n",
      "[]\n",
      "[]\n"
     ]
    }
   ],
   "source": [
    "A = [1,2,3]\n",
    "B = [1,2,3]\n",
    "\n",
    "print dot(A,B)\n",
    "print outer(A,B)\n",
    "\n",
    "B = []\n",
    "print dot(A,B)\n",
    "print outer(A,B)\n",
    "\n",
    "A = None\n",
    "print dot(A,B)\n",
    "print outer(A,B)"
   ]
  },
  {
   "cell_type": "code",
   "execution_count": 67,
   "metadata": {},
   "outputs": [],
   "source": [
    "# 4f.\n",
    "\n",
    "def matmul(M, N):\n",
    "    if M and N:\n",
    "        m_shape = shape(M)\n",
    "        n_shape = shape(N)\n",
    "\n",
    "#         print m_shape\n",
    "#         print n_shape\n",
    "\n",
    "        if m_shape:\n",
    "            n1,m1 = m_shape\n",
    "        else:\n",
    "            return m_shape\n",
    "\n",
    "        if n_shape:\n",
    "            n2,m2 = n_shape\n",
    "        else:\n",
    "            return n_shape\n",
    "\n",
    "        if m1 == n2:\n",
    "            return [[dot(row(M, i), column(N, j)) for j in range(m2)] for i in range(n1)]\n",
    "     \n",
    "    return EMPTY_MATRIX"
   ]
  },
  {
   "cell_type": "code",
   "execution_count": 68,
   "metadata": {},
   "outputs": [
    {
     "name": "stdout",
     "output_type": "stream",
     "text": [
      "[[14]]\n",
      "[[1, 2, 3], [2, 4, 6], [3, 6, 9]]\n",
      "[]\n",
      "[]\n",
      "[]\n",
      "[]\n"
     ]
    }
   ],
   "source": [
    "A = [[1,2,3]]\n",
    "B = [[1],[2],[3]]\n",
    "\n",
    "print matmul(A,B)\n",
    "print matmul(B,A)\n",
    "\n",
    "B = []\n",
    "print matmul(A,B)\n",
    "print matmul(B,A)\n",
    "\n",
    "A = None\n",
    "print matmul(A,B)\n",
    "print matmul(B,A)"
   ]
  },
  {
   "cell_type": "code",
   "execution_count": 69,
   "metadata": {},
   "outputs": [],
   "source": [
    "# 5a.\n",
    "def norm(M, i):\n",
    "    m_shape = shape(M)\n",
    "    \n",
    "    if m_shape:\n",
    "        n,m = m_shape\n",
    "        if float(i) == float('inf'):\n",
    "            return float(max([sum(list(map(abs,row))) for row in M]))\n",
    "        else:\n",
    "            return sum([sum([abs(M[row_idx][col_idx])**i for col_idx in range(m)]) for row_idx in range(n)])**(1/float(i))\n",
    "    \n",
    "    return False"
   ]
  },
  {
   "cell_type": "code",
   "execution_count": 70,
   "metadata": {},
   "outputs": [
    {
     "name": "stdout",
     "output_type": "stream",
     "text": [
      "10.0\n",
      "5.47722557505\n",
      "4.0223461898\n",
      "4.0\n",
      "7.0\n",
      "False\n"
     ]
    }
   ],
   "source": [
    "M = [[1,2],[3,-4]]\n",
    "print norm(M,1)\n",
    "print norm(M,2)\n",
    "print norm(M,10)\n",
    "print norm(M,100)\n",
    "print norm(M,float('inf'))\n",
    "M = None\n",
    "print norm(M,1)"
   ]
  },
  {
   "cell_type": "code",
   "execution_count": 71,
   "metadata": {},
   "outputs": [],
   "source": [
    "# 6a.\n",
    "\n",
    "def isValidInput(M):\n",
    "    if M:\n",
    "        m_shape = shape(M)\n",
    "    \n",
    "        if m_shape:\n",
    "            n,m = m_shape\n",
    "            \n",
    "            if m == n:\n",
    "                return True,n\n",
    "    return False\n",
    "\n",
    "\n",
    "def inv(M):\n",
    "    validInput, n = isValidInput(M)\n",
    "    if validInput:\n",
    "        N = zeros(n, n)\n",
    "\n",
    "        for p in range(n):\n",
    "\n",
    "            if M[p][p] == 0:\n",
    "                return False\n",
    "\n",
    "            for col_idx in range(n):\n",
    "                if col_idx == p:\n",
    "                    continue\n",
    "                N[p][col_idx] = M[p][col_idx] / float(M[p][p])\n",
    "\n",
    "            for row_idx in range(n):\n",
    "                if row_idx == p:\n",
    "                    continue\n",
    "                N[row_idx][p] = -M[row_idx][p] / float(M[p][p])\n",
    "\n",
    "            for row_idx in range(n):\n",
    "                if row_idx == p:\n",
    "                    continue\n",
    "                for col_idx in range(n):\n",
    "                    if col_idx == p:\n",
    "                        continue\n",
    "                    N[row_idx][col_idx] = M[row_idx][col_idx] + M[p][col_idx] * N[row_idx][p]\n",
    "\n",
    "            N[p][p] = 1/float(M[p][p])\n",
    "            \n",
    "            for row_idx in range(n):\n",
    "                for col_idx in range(n):\n",
    "                    M[row_idx][col_idx] = N[row_idx][col_idx]\n",
    "                    \n",
    "        return M\n",
    "    else: \n",
    "        return False"
   ]
  },
  {
   "cell_type": "code",
   "execution_count": 72,
   "metadata": {},
   "outputs": [
    {
     "name": "stdout",
     "output_type": "stream",
     "text": [
      "[[0.3999999999999999, 0.2], [0.3, -0.1]]\n",
      "False\n"
     ]
    }
   ],
   "source": [
    "M = [[1,2],[3,-4]]\n",
    "print inv(M)\n",
    "\n",
    "M = ones(2,2)\n",
    "print inv(M)"
   ]
  }
 ],
 "metadata": {
  "kernelspec": {
   "display_name": "Python 2",
   "language": "python",
   "name": "python2"
  },
  "language_info": {
   "codemirror_mode": {
    "name": "ipython",
    "version": 2
   },
   "file_extension": ".py",
   "mimetype": "text/x-python",
   "name": "python",
   "nbconvert_exporter": "python",
   "pygments_lexer": "ipython2",
   "version": "2.7.15"
  }
 },
 "nbformat": 4,
 "nbformat_minor": 2
}
